{
 "cells": [
  {
   "cell_type": "code",
   "execution_count": 1,
   "metadata": {
    "collapsed": true,
    "id": "wtW2OjfhI6xK"
   },
   "outputs": [
    {
     "name": "stdout",
     "output_type": "stream",
     "text": [
      "Collecting rdkit\n",
      "  Downloading rdkit-2023.9.5-cp310-cp310-manylinux_2_17_x86_64.manylinux2014_x86_64.whl.metadata (3.9 kB)\n",
      "Collecting kaggle\n",
      "  Downloading kaggle-1.6.6.tar.gz (84 kB)\n",
      "\u001b[2K     \u001b[90m━━━━━━━━━━━━━━━━━━━━━━━━━━━━━━━━━━━━━━━━\u001b[0m \u001b[32m84.6/84.6 kB\u001b[0m \u001b[31m11.9 MB/s\u001b[0m eta \u001b[36m0:00:00\u001b[0m\n",
      "\u001b[?25h  Preparing metadata (setup.py) ... \u001b[?25ldone\n",
      "\u001b[?25hRequirement already satisfied: numpy in /home/ec2-user/anaconda3/envs/pytorch_p310/lib/python3.10/site-packages (from rdkit) (1.26.3)\n",
      "Requirement already satisfied: Pillow in /home/ec2-user/anaconda3/envs/pytorch_p310/lib/python3.10/site-packages (from rdkit) (10.2.0)\n",
      "Requirement already satisfied: six>=1.10 in /home/ec2-user/anaconda3/envs/pytorch_p310/lib/python3.10/site-packages (from kaggle) (1.16.0)\n",
      "Requirement already satisfied: certifi in /home/ec2-user/anaconda3/envs/pytorch_p310/lib/python3.10/site-packages (from kaggle) (2023.11.17)\n",
      "Requirement already satisfied: python-dateutil in /home/ec2-user/anaconda3/envs/pytorch_p310/lib/python3.10/site-packages (from kaggle) (2.8.2)\n",
      "Requirement already satisfied: requests in /home/ec2-user/anaconda3/envs/pytorch_p310/lib/python3.10/site-packages (from kaggle) (2.31.0)\n",
      "Requirement already satisfied: tqdm in /home/ec2-user/anaconda3/envs/pytorch_p310/lib/python3.10/site-packages (from kaggle) (4.66.1)\n",
      "Collecting python-slugify (from kaggle)\n",
      "  Downloading python_slugify-8.0.4-py2.py3-none-any.whl.metadata (8.5 kB)\n",
      "Requirement already satisfied: urllib3 in /home/ec2-user/anaconda3/envs/pytorch_p310/lib/python3.10/site-packages (from kaggle) (1.26.18)\n",
      "Requirement already satisfied: bleach in /home/ec2-user/anaconda3/envs/pytorch_p310/lib/python3.10/site-packages (from kaggle) (6.1.0)\n",
      "Requirement already satisfied: webencodings in /home/ec2-user/anaconda3/envs/pytorch_p310/lib/python3.10/site-packages (from bleach->kaggle) (0.5.1)\n",
      "Collecting text-unidecode>=1.3 (from python-slugify->kaggle)\n",
      "  Downloading text_unidecode-1.3-py2.py3-none-any.whl.metadata (2.4 kB)\n",
      "Requirement already satisfied: charset-normalizer<4,>=2 in /home/ec2-user/anaconda3/envs/pytorch_p310/lib/python3.10/site-packages (from requests->kaggle) (3.3.2)\n",
      "Requirement already satisfied: idna<4,>=2.5 in /home/ec2-user/anaconda3/envs/pytorch_p310/lib/python3.10/site-packages (from requests->kaggle) (3.6)\n",
      "Downloading rdkit-2023.9.5-cp310-cp310-manylinux_2_17_x86_64.manylinux2014_x86_64.whl (34.4 MB)\n",
      "\u001b[2K   \u001b[90m━━━━━━━━━━━━━━━━━━━━━━━━━━━━━━━━━━━━━━━━\u001b[0m \u001b[32m34.4/34.4 MB\u001b[0m \u001b[31m66.8 MB/s\u001b[0m eta \u001b[36m0:00:00\u001b[0m:00:01\u001b[0m00:01\u001b[0m\n",
      "\u001b[?25hDownloading python_slugify-8.0.4-py2.py3-none-any.whl (10 kB)\n",
      "Downloading text_unidecode-1.3-py2.py3-none-any.whl (78 kB)\n",
      "\u001b[2K   \u001b[90m━━━━━━━━━━━━━━━━━━━━━━━━━━━━━━━━━━━━━━━━\u001b[0m \u001b[32m78.2/78.2 kB\u001b[0m \u001b[31m17.2 MB/s\u001b[0m eta \u001b[36m0:00:00\u001b[0m\n",
      "\u001b[?25hBuilding wheels for collected packages: kaggle\n",
      "  Building wheel for kaggle (setup.py) ... \u001b[?25ldone\n",
      "\u001b[?25h  Created wheel for kaggle: filename=kaggle-1.6.6-py3-none-any.whl size=111943 sha256=02ae70eb8ac461e2c7acf7299b1755b1dfe2b4987eae4ed809792c3b0837036e\n",
      "  Stored in directory: /home/ec2-user/.cache/pip/wheels/53/34/8c/8ca3450d17206d9e37e1ee3aeb47cbb2873d22a9e0c60eb137\n",
      "Successfully built kaggle\n",
      "Installing collected packages: text-unidecode, rdkit, python-slugify, kaggle\n",
      "Successfully installed kaggle-1.6.6 python-slugify-8.0.4 rdkit-2023.9.5 text-unidecode-1.3\n"
     ]
    }
   ],
   "source": [
    "!pip install rdkit kaggle"
   ]
  },
  {
   "cell_type": "code",
   "execution_count": 2,
   "metadata": {
    "collapsed": true,
    "id": "sFaFKF4lECat"
   },
   "outputs": [
    {
     "name": "stdout",
     "output_type": "stream",
     "text": [
      "Collecting pyvis\n",
      "  Downloading pyvis-0.3.2-py3-none-any.whl.metadata (1.7 kB)\n",
      "Requirement already satisfied: ipython>=5.3.0 in /home/ec2-user/anaconda3/envs/pytorch_p310/lib/python3.10/site-packages (from pyvis) (8.21.0)\n",
      "Requirement already satisfied: jinja2>=2.9.6 in /home/ec2-user/anaconda3/envs/pytorch_p310/lib/python3.10/site-packages (from pyvis) (3.1.3)\n",
      "Collecting jsonpickle>=1.4.1 (from pyvis)\n",
      "  Downloading jsonpickle-3.0.3-py3-none-any.whl.metadata (7.3 kB)\n",
      "Requirement already satisfied: networkx>=1.11 in /home/ec2-user/anaconda3/envs/pytorch_p310/lib/python3.10/site-packages (from pyvis) (3.2.1)\n",
      "Requirement already satisfied: decorator in /home/ec2-user/anaconda3/envs/pytorch_p310/lib/python3.10/site-packages (from ipython>=5.3.0->pyvis) (5.1.1)\n",
      "Requirement already satisfied: jedi>=0.16 in /home/ec2-user/anaconda3/envs/pytorch_p310/lib/python3.10/site-packages (from ipython>=5.3.0->pyvis) (0.19.1)\n",
      "Requirement already satisfied: matplotlib-inline in /home/ec2-user/anaconda3/envs/pytorch_p310/lib/python3.10/site-packages (from ipython>=5.3.0->pyvis) (0.1.6)\n",
      "Requirement already satisfied: prompt-toolkit<3.1.0,>=3.0.41 in /home/ec2-user/anaconda3/envs/pytorch_p310/lib/python3.10/site-packages (from ipython>=5.3.0->pyvis) (3.0.42)\n",
      "Requirement already satisfied: pygments>=2.4.0 in /home/ec2-user/anaconda3/envs/pytorch_p310/lib/python3.10/site-packages (from ipython>=5.3.0->pyvis) (2.17.2)\n",
      "Requirement already satisfied: stack-data in /home/ec2-user/anaconda3/envs/pytorch_p310/lib/python3.10/site-packages (from ipython>=5.3.0->pyvis) (0.6.2)\n",
      "Requirement already satisfied: traitlets>=5 in /home/ec2-user/anaconda3/envs/pytorch_p310/lib/python3.10/site-packages (from ipython>=5.3.0->pyvis) (5.14.1)\n",
      "Requirement already satisfied: exceptiongroup in /home/ec2-user/anaconda3/envs/pytorch_p310/lib/python3.10/site-packages (from ipython>=5.3.0->pyvis) (1.2.0)\n",
      "Requirement already satisfied: pexpect>4.3 in /home/ec2-user/anaconda3/envs/pytorch_p310/lib/python3.10/site-packages (from ipython>=5.3.0->pyvis) (4.9.0)\n",
      "Requirement already satisfied: MarkupSafe>=2.0 in /home/ec2-user/anaconda3/envs/pytorch_p310/lib/python3.10/site-packages (from jinja2>=2.9.6->pyvis) (2.1.4)\n",
      "Requirement already satisfied: parso<0.9.0,>=0.8.3 in /home/ec2-user/anaconda3/envs/pytorch_p310/lib/python3.10/site-packages (from jedi>=0.16->ipython>=5.3.0->pyvis) (0.8.3)\n",
      "Requirement already satisfied: ptyprocess>=0.5 in /home/ec2-user/anaconda3/envs/pytorch_p310/lib/python3.10/site-packages (from pexpect>4.3->ipython>=5.3.0->pyvis) (0.7.0)\n",
      "Requirement already satisfied: wcwidth in /home/ec2-user/anaconda3/envs/pytorch_p310/lib/python3.10/site-packages (from prompt-toolkit<3.1.0,>=3.0.41->ipython>=5.3.0->pyvis) (0.2.13)\n",
      "Requirement already satisfied: executing>=1.2.0 in /home/ec2-user/anaconda3/envs/pytorch_p310/lib/python3.10/site-packages (from stack-data->ipython>=5.3.0->pyvis) (2.0.1)\n",
      "Requirement already satisfied: asttokens>=2.1.0 in /home/ec2-user/anaconda3/envs/pytorch_p310/lib/python3.10/site-packages (from stack-data->ipython>=5.3.0->pyvis) (2.4.1)\n",
      "Requirement already satisfied: pure-eval in /home/ec2-user/anaconda3/envs/pytorch_p310/lib/python3.10/site-packages (from stack-data->ipython>=5.3.0->pyvis) (0.2.2)\n",
      "Requirement already satisfied: six>=1.12.0 in /home/ec2-user/anaconda3/envs/pytorch_p310/lib/python3.10/site-packages (from asttokens>=2.1.0->stack-data->ipython>=5.3.0->pyvis) (1.16.0)\n",
      "Downloading pyvis-0.3.2-py3-none-any.whl (756 kB)\n",
      "\u001b[2K   \u001b[90m━━━━━━━━━━━━━━━━━━━━━━━━━━━━━━━━━━━━━━━━\u001b[0m \u001b[32m756.0/756.0 kB\u001b[0m \u001b[31m15.6 MB/s\u001b[0m eta \u001b[36m0:00:00\u001b[0m00:01\u001b[0m\n",
      "\u001b[?25hDownloading jsonpickle-3.0.3-py3-none-any.whl (40 kB)\n",
      "\u001b[2K   \u001b[90m━━━━━━━━━━━━━━━━━━━━━━━━━━━━━━━━━━━━━━━━\u001b[0m \u001b[32m40.8/40.8 kB\u001b[0m \u001b[31m7.7 MB/s\u001b[0m eta \u001b[36m0:00:00\u001b[0m\n",
      "\u001b[?25hInstalling collected packages: jsonpickle, pyvis\n",
      "Successfully installed jsonpickle-3.0.3 pyvis-0.3.2\n"
     ]
    }
   ],
   "source": [
    "!pip install pyvis"
   ]
  },
  {
   "cell_type": "code",
   "execution_count": 3,
   "metadata": {
    "executionInfo": {
     "elapsed": 12151,
     "status": "ok",
     "timestamp": 1708818321849,
     "user": {
      "displayName": "Alex Jimenez",
      "userId": "15345293446110207163"
     },
     "user_tz": 300
    },
    "id": "jUhZj-0qJRnW"
   },
   "outputs": [],
   "source": [
    "import time\n",
    "import sys\n",
    "import pickle\n",
    "import numpy      as np\n",
    "import pandas     as pd\n",
    "import matplotlib.pyplot as plt\n",
    "import seaborn    as sns\n",
    "import networkx   as nx  # For creating and manipulating graph structures\n",
    "\n",
    "from   zipfile    import ZipFile\n",
    "from   datetime   import datetime\n",
    "from collections import Counter\n",
    "import random\n",
    "import re\n",
    "import psutil\n",
    "import copy\n",
    "import json\n",
    "import os\n",
    "\n",
    "from rdkit import Chem\n",
    "from rdkit.Chem import AllChem\n",
    "from rdkit.Chem import PandasTools\n",
    "from rdkit.Chem import MACCSkeys\n",
    "from rdkit.Chem import rdmolops\n",
    "from rdkit.Chem import FunctionalGroups\n",
    "\n",
    "from tqdm       import tqdm\n",
    "import torch\n",
    "import torch.nn as nn\n",
    "import torch.nn.functional as F\n",
    "from torch.utils.data import DataLoader, TensorDataset, Subset\n",
    "from torch.optim import lr_scheduler\n",
    "from torch.distributions import Normal\n",
    "\n",
    "import sklearn\n",
    "from sklearn.model_selection import train_test_split\n",
    "from sklearn.metrics         import accuracy_score, mean_absolute_error, r2_score\n",
    "from sklearn.preprocessing   import StandardScaler, MinMaxScaler\n",
    "from sklearn.decomposition   import TruncatedSVD\n",
    "from sklearn.model_selection import KFold"
   ]
  },
  {
   "cell_type": "code",
   "execution_count": 4,
   "metadata": {
    "colab": {
     "base_uri": "https://localhost:8080/"
    },
    "executionInfo": {
     "elapsed": 158,
     "status": "ok",
     "timestamp": 1708818324527,
     "user": {
      "displayName": "Alex Jimenez",
      "userId": "15345293446110207163"
     },
     "user_tz": 300
    },
    "id": "LzOXDK_0KJ_P",
    "outputId": "05a39e03-33e5-4016-ab39-5a6f7630010c"
   },
   "outputs": [
    {
     "name": "stdout",
     "output_type": "stream",
     "text": [
      "chmod: cannot access ‘/home/ec2-user/.kaggle/kaggle.json’: No such file or directory\r\n"
     ]
    }
   ],
   "source": [
    "api_token = {\"username\":\"alji1305\",\"key\":\"4703b0a6c6a8543e51a6de4131ab05cb\"}\n",
    "\n",
    "with open('kaggle.json', 'w') as file:\n",
    "    json.dump(api_token, file)\n",
    "\n",
    "!chmod 600 ~/.kaggle/kaggle.json\n",
    "\n",
    "with open('kaggle.json', 'r') as file:\n",
    "    kaggle_credentials = json.load(file)\n",
    "\n",
    "username = kaggle_credentials['username']\n",
    "api_key  = kaggle_credentials['key']\n",
    "\n",
    "\n",
    "os.environ['KAGGLE_USERNAME'] = username\n",
    "os.environ['KAGGLE_KEY']      = api_key"
   ]
  },
  {
   "cell_type": "code",
   "execution_count": 7,
   "metadata": {
    "colab": {
     "base_uri": "https://localhost:8080/"
    },
    "executionInfo": {
     "elapsed": 1338,
     "status": "ok",
     "timestamp": 1708818327374,
     "user": {
      "displayName": "Alex Jimenez",
      "userId": "15345293446110207163"
     },
     "user_tz": 300
    },
    "id": "zFaMdV4rI3Rw",
    "outputId": "aa995ffe-de59-4e15-ebcc-c2031642c18e"
   },
   "outputs": [],
   "source": [
    "# !kaggle datasets download -d basu369victor/zinc250k"
   ]
  },
  {
   "cell_type": "code",
   "execution_count": 6,
   "metadata": {
    "executionInfo": {
     "elapsed": 766,
     "status": "ok",
     "timestamp": 1708818329192,
     "user": {
      "displayName": "Alex Jimenez",
      "userId": "15345293446110207163"
     },
     "user_tz": 300
    },
    "id": "fI2P1jLQK7WD"
   },
   "outputs": [],
   "source": [
    "with ZipFile('zinc250k.zip') as zp:\n",
    "    zinc_data = pd.read_csv(zp.open('250k_rndm_zinc_drugs_clean_3.csv'))\n",
    "\n",
    "adjusted_smiles  = []\n",
    "for index, smile in enumerate(zinc_data['smiles']):\n",
    "  smile          = smile.replace('\\n', '')\n",
    "  adjusted_smiles.append(smile)\n",
    "\n",
    "zinc_data['smiles'] = adjusted_smiles"
   ]
  },
  {
   "cell_type": "markdown",
   "metadata": {
    "id": "B7bUeCqsRybT"
   },
   "source": [
    "**Data Details**\n",
    "1. ssr contains list of lists with indexes that correspond to rings\n",
    "2. Atoms contains the symbol of the atom corresponding to index\n",
    "3. Bonds contains tuples of bonded indexes"
   ]
  },
  {
   "cell_type": "markdown",
   "metadata": {},
   "source": [
    "**More information for JT Algo 24Feb2024**\n",
    "\n",
    "atom Information:\n",
    "--\n",
    "1. Atomic Number: The atomic number uniquely identifies the element of each atom.\n",
    "2. Formal Charge: The formal charge can affect the molecule's reactivity and properties.\n",
    "3. Hybridization: The hybridization state of an atom can influence molecular geometry.\n",
    "4. Explicit and Implicit Hydrogens: Knowing the number of attached hydrogens is crucial for understanding the molecule's structure.\n",
    "5. Isotope Information: For molecules with isotopes, this information is necessary.\n",
    "    \n",
    "Bond Information:\n",
    "--   \n",
    "1. Bond Order: You're already capturing single, double, and triple bonds but ensure to include any aromatic bonds explicitly as their electronic structure can influence reactivity.\n",
    "2. Stereochemistry: For bonds, capturing cis/trans (E/Z) configurations is important for double bonds.\n",
    "\n",
    "Substructure and Functional Groups:\n",
    "--\n",
    "1. Functional Groups: You hinted at identifying alcohols; systematically extend this to other functional groups like carbonyls, amines, etc., as they play significant roles in the molecule's properties and reactivity.\n",
    "2. Ring Structures: Information about ring size, aromaticity, and saturation can be crucial, especially for heterocyclic compounds.\n",
    "\n",
    "Stereochemistry:\n",
    "--\n",
    "1. Chiral Centers: You're capturing chiral centers, which is excellent. Ensure to include their absolute configuration (R/S) as it can drastically change a molecule's biological activity.\n",
    "2. Axial and Planar Chirality: For molecules with more complex chiral structures, such as those with axial chirality (e.g., biaryls) or planar chirality.\n",
    "\n",
    "Molecular Connectivity:\n",
    "--\n",
    "1. Graph Representation: Since you're working with a JT-VAE, representing the molecule as a graph (nodes for atoms and edges for bonds) is fundamental. Including connectivity information (which atoms are bonded to which) in a structured format like SMILES or InChI can also be useful for re-constructing the molecule.\n",
    "2. Physical and Chemical Properties (optional):\n",
    "While not directly related to the structure, including properties like molecular weight, logP (a measure of hydrophobicity), or even polar surface area could enrich your model's ability to predict not just the structure but also the likeliness of a molecule's existence and its physical behavior.\n"
   ]
  },
  {
   "cell_type": "markdown",
   "metadata": {},
   "source": [
    "**Paper Additional Information for Vocabulary 03Mar2024**\n",
    "1. Each vertex v has a feature vector xv indicating the atom type, valence, and other properties. Similarly, each edge (u,v) ∈ E has a feature vector xuv indicating its bond type, and two hidden vectors νuv and νvu denoting the message from u to v and vice versa."
   ]
  },
  {
   "cell_type": "code",
   "execution_count": 7,
   "metadata": {
    "executionInfo": {
     "elapsed": 156,
     "status": "ok",
     "timestamp": 1708818332909,
     "user": {
      "displayName": "Alex Jimenez",
      "userId": "15345293446110207163"
     },
     "user_tz": 300
    },
    "id": "gPvUfwSN9YHu"
   },
   "outputs": [],
   "source": [
    "def metadata_smiles(bonds, mol, smile, atoms_dict):\n",
    "  # Identify aromatic rings and bond types\n",
    "\n",
    "  stereo_config_map = {\n",
    "        Chem.rdchem.BondStereo.STEREOZ: 'cis',\n",
    "        Chem.rdchem.BondStereo.STEREOE: 'trans',\n",
    "        Chem.rdchem.BondStereo.STEREONONE: 'none',  # No stereochemistry specified\n",
    "  }\n",
    "\n",
    "  atoms             = mol.GetAtoms()\n",
    "  total_hydrogens   = [atom.GetTotalNumHs() for atom in atoms]\n",
    "  bonds             = mol.GetBonds()\n",
    "  aromatic_atoms    = [atom.GetIdx() for atom in atoms if atom.GetIsAromatic()]\n",
    "  double_bonds      = [bond.GetIdx() for bond in bonds if bond.GetBondType() == Chem.rdchem.BondType.DOUBLE]\n",
    "  double_bonds_info = [stereo_config_map[bond.GetStereo()] for bond in bonds \n",
    "                       if bond.GetBondType() == Chem.rdchem.BondType.DOUBLE]\n",
    "  \n",
    "\n",
    "  triple_bonds      = [bond.GetIdx() for bond in bonds if bond.GetBondType() == Chem.rdchem.BondType.TRIPLE]\n",
    "#   fgs               = FunctionalGroups.FindFunctionalGroups(mol)\n",
    "  double_isomerism  = []\n",
    "  double_list       = []\n",
    "  hydrogen_counts   = []\n",
    "  # Iterate over the neighbors of the atom\n",
    "        \n",
    "  for index, bond in enumerate(double_bonds):\n",
    "    bond_object       = bonds[bond]\n",
    "    bond_isomerism    = double_bonds_info[index]              \n",
    "    double_bond_atoms = tuple(sorted((bond_object.GetBeginAtomIdx(), bond_object.GetEndAtomIdx())))\n",
    "    double_list.append(double_bond_atoms)\n",
    "    double_isomerism.append(bond_isomerism)\n",
    "    \n",
    "# Dictionary to map RDKit's stereo configuration enumeration to human-readable strings\n",
    "\n",
    "  triple_list         = []\n",
    "  for bond in triple_bonds:\n",
    "    bond_object       = bonds[bond]\n",
    "    triple_bond_atoms = tuple(sorted((bond_object.GetBeginAtomIdx(), bond_object.GetEndAtomIdx())))\n",
    "    triple_list.append(triple_bond_atoms)\n",
    "\n",
    "  # Remove triple and double bonds from list\n",
    "  # bonds             = [bond for bond in bonds if bond.GetBondType() != Chem.rdchem.BondType.DOUBLE\n",
    "  #                     and bond.GetBondType() != Chem.rdchem.BondType.TRIPLE]\n",
    "\n",
    "  tertiary_atoms      = [atom.GetIdx() for atom in atoms if atom.GetDegree() == 3\n",
    "                       and atom.GetChiralTag() == Chem.rdchem.ChiralType.CHI_UNSPECIFIED\n",
    "                       and not atom.IsInRing()]\n",
    "  quaternary_atoms    = [atom.GetIdx() for atom in atoms if atom.GetDegree() == 4\n",
    "                       and atom.GetChiralTag() == Chem.rdchem.ChiralType.CHI_UNSPECIFIED\n",
    "                       and not atom.IsInRing()]\n",
    "  bonded_atoms        = [(bond.GetBeginAtomIdx(), bond.GetEndAtomIdx()) for bond in bonds]\n",
    "  # Identify functional groups (as an example, using alcohols)\n",
    "  # alcohol_groups = mol.GetSubstructMatches(Chem.MolFromSmarts('CO'))\n",
    "  valency             = [atom.GetExplicitValence() for atom in atoms]\n",
    "\n",
    "  # Identify chiral centers\n",
    "  chiral_centers      = Chem.FindMolChiralCenters(mol, includeUnassigned=True)\n",
    "\n",
    "  # Assemble the information\n",
    "  molecule_info     = {\n",
    "      \"atoms\":  atoms_dict,\n",
    "      'bonds':  bonded_atoms,\n",
    "      \"Aromatic_Atoms\": aromatic_atoms,\n",
    "      \"Double_Bonds\":   double_list,\n",
    "      \"Triple_Bonds\":   triple_list,\n",
    "      \"Chiral_Centers\": chiral_centers,\n",
    "      'Tertiary': tertiary_atoms,\n",
    "      'Quaternary': quaternary_atoms,\n",
    "      'Bond_Isomerism': double_isomerism,\n",
    "      'Bonded Hydrogens': total_hydrogens,\n",
    "      'valence': valency\n",
    "  }\n",
    "\n",
    "\n",
    "  return molecule_info\n"
   ]
  },
  {
   "cell_type": "code",
   "execution_count": 8,
   "metadata": {
    "colab": {
     "base_uri": "https://localhost:8080/"
    },
    "executionInfo": {
     "elapsed": 789874,
     "status": "ok",
     "timestamp": 1708819126161,
     "user": {
      "displayName": "Alex Jimenez",
      "userId": "15345293446110207163"
     },
     "user_tz": 300
    },
    "id": "mK7VdeHeMiiE",
    "outputId": "967cd84d-a901-45f6-d5ac-b03755d60ae9"
   },
   "outputs": [
    {
     "name": "stderr",
     "output_type": "stream",
     "text": [
      "  0%|          | 1001/249455 [00:04<18:23, 225.10it/s]\n"
     ]
    }
   ],
   "source": [
    "def smiles_to_matrix(zinc_data):\n",
    "\n",
    "  v1                   = {}\n",
    "  v2_ring              = {}\n",
    "  adjacency_matricies  = []\n",
    "  atom_dict            = {}\n",
    "  molecule_df          = {}\n",
    "  max_spanning_trees   = []\n",
    "\n",
    "  for i, smile in tqdm(enumerate(zinc_data['smiles']), total = len(zinc_data)):\n",
    "    molecule       = Chem.MolFromSmiles(smile)\n",
    "    atoms          = [atom.GetSymbol() for atom in molecule.GetAtoms()]\n",
    "\n",
    "    # Store original atom indexes in dictionary for later to create molecule tokens\n",
    "    atom_dict      = {index: atom for index, atom in enumerate(atoms)}\n",
    "\n",
    "    bonds          = [tuple(sorted((bond.GetBeginAtomIdx(), bond.GetEndAtomIdx()))) for bond in molecule.GetBonds()]\n",
    "\n",
    "    ssr            = [list(x) for x in Chem.GetSymmSSSR(molecule)]  # GetSymmSSSR finds smallest set of smallest rings\n",
    "    v2             = set()\n",
    "    non_ring_bonds = set(sorted(bonds))\n",
    "    molecule_info  = metadata_smiles(bonds, molecule, smile, atom_dict)\n",
    "    molecule_df[i] = molecule_info\n",
    "\n",
    "    # Iterate Through Rings\n",
    "    for ring in ssr:\n",
    "      temp_atoms = copy.copy(atoms)\n",
    "\n",
    "      for index in range(len(ring)):\n",
    "        begin_atom_idx = ring[index]\n",
    "        end_atom_idx   = ring[(index + 1) % len(ring)]  # To loop back to the start\n",
    "        bond           = molecule.GetBondBetweenAtoms(begin_atom_idx, end_atom_idx)\n",
    "\n",
    "        if bond is not None:\n",
    "            bond_idx_tuple = tuple(sorted((begin_atom_idx, end_atom_idx)))\n",
    "            v2.add(bond_idx_tuple)\n",
    "\n",
    "      # v2\n",
    "      non_ring_bonds     = set(sorted(non_ring_bonds)) - set(sorted(v2))\n",
    "\n",
    "      subset_dict        = [atoms, v2, non_ring_bonds]\n",
    "      v1[i]              = non_ring_bonds\n",
    "\n",
    "      # Stores all V2 rings after some post processing\n",
    "      v2_ring[i]         = ssr\n",
    "\n",
    "    # Step 2: Merge Bridged Rings\n",
    "    # Example of Bridged Ring: Bicyclo[2.2.2]octane\n",
    "    if len(ssr) > 0:\n",
    "      v2_copy     = copy.deepcopy(v2_ring[i])\n",
    "    # If no rings, all bonds are the bonds calculated initially\n",
    "    else:\n",
    "      v1[i]       = bonds\n",
    "      v2_ring[i]  = None\n",
    "      v2_copy     = []\n",
    "\n",
    "    # Could be optimized to not evaluate r1 and r2, as well as r2 and r1 (order doesn't matter) 11 Feb 2024\n",
    "    counter = 0\n",
    "    for r1 in v2_copy:\n",
    "        for r2 in v2_copy:\n",
    "            # Don't evaluate identical rings and fit algorithm criteria\n",
    "            if r1 != r2 and len(set(r1).intersection(r2)) > 2:\n",
    "                # Merge r1 and r2\n",
    "                counter       += 1\n",
    "                new_ring       = list(set(r1 + r2))\n",
    "\n",
    "                # LEFT OFF HERE V2_ring[14004] does not exist look into why 11Feb2024\n",
    "                v2_ring[i]     =  [ring for ring in v2_ring[i] if ring not in [r1, r2]]\n",
    "\n",
    "\n",
    "                # Assured our rings are not duplicated\n",
    "                if new_ring not in v2_ring[i]:\n",
    "                  v2_ring[i].append(new_ring)\n",
    "\n",
    "\n",
    "    # Step 3: Find Intersection Atoms (V0)\n",
    "    # V0 ← atoms being the intersection of three or more clusters in V1 ∪ V2\n",
    "    # Property that finds tertiary carbons/ any other tertiary molecules (Mostly Carbons)\n",
    "    all_clusters   = list(v1[i]) + list(v2)\n",
    "    atoms          = [atom for cluster in all_clusters for atom in cluster]\n",
    "    atom_counts    = Counter(atoms)\n",
    "    atom_obj       = molecule.GetAtoms()\n",
    "    # look for tertiary or quaternary atoms given they are not in rings, since this violates algorithm\n",
    "    v0             = {atom for atom, count in atom_counts.items() if count >= 3\n",
    "                      and not atom_obj[atom].IsInRing()}\n",
    "\n",
    "    # The set of all nodes (V)\n",
    "    V              = set().union(v1[i])\n",
    "    if len(ssr) > 0:\n",
    "      v2_ring[i]   = set([tuple(sub_list) for sub_list in v2_ring[i]])\n",
    "      V            = V.union([ring for ring in v2_ring[i]])\n",
    "    V              = V.union(v0)  # Add all atoms from v0\n",
    "\n",
    "\n",
    "    # Add nodes for each cluster (ring or bond)\n",
    "    junction_tree = nx.Graph()\n",
    "    for cluster in V:\n",
    "        junction_tree.add_node(cluster)\n",
    "\n",
    "     # Add edges between clusters that share junction atoms\n",
    "    # Finds the shared atoms for Nodes\n",
    "    for cluster1 in junction_tree.nodes():\n",
    "        for cluster2 in junction_tree.nodes():\n",
    "            if cluster1 != cluster2:\n",
    "\n",
    "                # Different combinations of Tertiary, single atoms, and ring bonds\n",
    "                shared_atoms = None\n",
    "                if isinstance(cluster1, int) and isinstance(cluster2, int):\n",
    "                  shared_atoms = set([cluster1]).intersection(set([cluster2]))\n",
    "                elif isinstance(cluster2, int):\n",
    "                    if cluster2 in cluster1:  # If the single atom is in the cluster\n",
    "                        shared_atoms = set([cluster2])\n",
    "                elif isinstance(cluster1, int):\n",
    "                    if cluster1 in cluster2:  # If the single atom is in the cluster\n",
    "                        shared_atoms = set([cluster1])\n",
    "                else:\n",
    "                  shared_atoms = set(cluster1).intersection(set(cluster2))\n",
    "\n",
    "\n",
    "                if shared_atoms is not None and len(shared_atoms) > 0:\n",
    "                  contains_index = any(list(shared_atoms) in tup for tup in list(v1[i]))\n",
    "                  # Conditions to check for consecutive v1 bonds... (1,2) should be connected to (2, 4)\n",
    "                  v1_bonds       = True in [list(shared_atoms)[0] in tup for tup in list(v1[i])]\n",
    "\n",
    "                if shared_atoms:\n",
    "                    junction_tree.add_edge(cluster1, cluster2, weight=len(shared_atoms))\n",
    "\n",
    "    if i > 1000:\n",
    "        break\n",
    "    # Step 5: Find Maximum Spanning Tree\n",
    "    mst                    = nx.maximum_spanning_tree(junction_tree)\n",
    "\n",
    "    # Get the adjacency matrix representing connections\n",
    "    adj_matrix             = nx.adjacency_matrix(mst)\n",
    "    adj_matrix             = adj_matrix.todense()\n",
    "\n",
    "    adjacency_matricies.append(adj_matrix)\n",
    "    max_spanning_trees.append(mst)\n",
    "\n",
    "  return adjacency_matricies, molecule_df, max_spanning_trees\n",
    "\n",
    "adjacency_matricies, molecule_df, junction_tree = smiles_to_matrix(zinc_data)\n",
    "\n",
    "\n",
    "\n",
    "# adjacency_matricies = pickle.load(open('adjacency_matricies.pckl', 'rb'))\n",
    "# molecule_df         = pickle.load(open('molecule_df.pckl', 'rb'))\n",
    "# junction_tree       = pickle.load(open('junction_tree.pckl', 'rb'))\n",
    "\n",
    "# print('files_loaded')"
   ]
  },
  {
   "cell_type": "code",
   "execution_count": 11,
   "metadata": {},
   "outputs": [],
   "source": [
    "# mol = Chem.MolFromSmiles(zinc_data['smiles'][10])\n",
    "# [list(x) for x in Chem.GetSymmSSSR(mol)]"
   ]
  },
  {
   "cell_type": "code",
   "execution_count": 12,
   "metadata": {
    "collapsed": true
   },
   "outputs": [
    {
     "data": {
      "text/plain": [
       "{'atoms': {0: 'C',\n",
       "  1: 'C',\n",
       "  2: 'O',\n",
       "  3: 'C',\n",
       "  4: 'C',\n",
       "  5: 'C',\n",
       "  6: 'C',\n",
       "  7: 'O',\n",
       "  8: 'C',\n",
       "  9: 'C',\n",
       "  10: 'C',\n",
       "  11: 'C',\n",
       "  12: 'C',\n",
       "  13: 'C',\n",
       "  14: 'N',\n",
       "  15: 'C',\n",
       "  16: 'N',\n",
       "  17: 'N',\n",
       "  18: 'C',\n",
       "  19: 'C',\n",
       "  20: 'C',\n",
       "  21: 'C',\n",
       "  22: 'C',\n",
       "  23: 'C',\n",
       "  24: 'C',\n",
       "  25: 'F',\n",
       "  26: 'F',\n",
       "  27: 'F',\n",
       "  28: 'C',\n",
       "  29: 'C',\n",
       "  30: 'C',\n",
       "  31: 'O',\n",
       "  32: 'C',\n",
       "  33: 'C',\n",
       "  34: 'C',\n",
       "  35: 'C'},\n",
       " 'bonds': [(0, 1),\n",
       "  (1, 2),\n",
       "  (2, 3),\n",
       "  (3, 4),\n",
       "  (4, 5),\n",
       "  (5, 6),\n",
       "  (6, 7),\n",
       "  (7, 8),\n",
       "  (8, 9),\n",
       "  (6, 10),\n",
       "  (10, 11),\n",
       "  (11, 12),\n",
       "  (12, 13),\n",
       "  (13, 14),\n",
       "  (12, 15),\n",
       "  (15, 16),\n",
       "  (15, 17),\n",
       "  (17, 18),\n",
       "  (18, 19),\n",
       "  (19, 20),\n",
       "  (20, 21),\n",
       "  (21, 22),\n",
       "  (22, 23),\n",
       "  (23, 24),\n",
       "  (24, 25),\n",
       "  (24, 26),\n",
       "  (24, 27),\n",
       "  (17, 28),\n",
       "  (28, 29),\n",
       "  (29, 30),\n",
       "  (30, 31),\n",
       "  (30, 32),\n",
       "  (32, 33),\n",
       "  (33, 34),\n",
       "  (10, 35),\n",
       "  (35, 3),\n",
       "  (29, 11),\n",
       "  (23, 18),\n",
       "  (34, 28)],\n",
       " 'Aromatic_Atoms': [3, 4, 5, 6, 10, 18, 19, 20, 21, 22, 23, 35],\n",
       " 'Double_Bonds': [(12, 15), (28, 29), (30, 31)],\n",
       " 'Triple_Bonds': [(13, 14)],\n",
       " 'Chiral_Centers': [(11, 'R')],\n",
       " 'Tertiary': [],\n",
       " 'Quaternary': [24],\n",
       " 'Bond_Isomerism': ['none', 'none', 'none'],\n",
       " 'Bonded Hydrogens': [3,\n",
       "  2,\n",
       "  0,\n",
       "  0,\n",
       "  1,\n",
       "  1,\n",
       "  0,\n",
       "  0,\n",
       "  2,\n",
       "  3,\n",
       "  0,\n",
       "  1,\n",
       "  0,\n",
       "  0,\n",
       "  0,\n",
       "  0,\n",
       "  2,\n",
       "  0,\n",
       "  0,\n",
       "  1,\n",
       "  1,\n",
       "  1,\n",
       "  1,\n",
       "  0,\n",
       "  0,\n",
       "  0,\n",
       "  0,\n",
       "  0,\n",
       "  0,\n",
       "  0,\n",
       "  0,\n",
       "  0,\n",
       "  2,\n",
       "  2,\n",
       "  2,\n",
       "  1],\n",
       " 'valence': [1,\n",
       "  2,\n",
       "  2,\n",
       "  4,\n",
       "  3,\n",
       "  3,\n",
       "  4,\n",
       "  2,\n",
       "  2,\n",
       "  1,\n",
       "  4,\n",
       "  4,\n",
       "  4,\n",
       "  4,\n",
       "  3,\n",
       "  4,\n",
       "  1,\n",
       "  3,\n",
       "  4,\n",
       "  3,\n",
       "  3,\n",
       "  3,\n",
       "  3,\n",
       "  4,\n",
       "  4,\n",
       "  1,\n",
       "  1,\n",
       "  1,\n",
       "  4,\n",
       "  4,\n",
       "  4,\n",
       "  2,\n",
       "  2,\n",
       "  2,\n",
       "  2,\n",
       "  3]}"
      ]
     },
     "execution_count": 12,
     "metadata": {},
     "output_type": "execute_result"
    }
   ],
   "source": [
    "molecule_df[10]"
   ]
  },
  {
   "cell_type": "markdown",
   "metadata": {},
   "source": [
    "molecule_df[10]"
   ]
  },
  {
   "cell_type": "markdown",
   "metadata": {
    "id": "2FonJr-9D5_C"
   },
   "source": [
    "**Next Step 25Feb2024**\n",
    "1. Add the total Hydrogen informaiton to single atoms in the graph strucutre"
   ]
  },
  {
   "cell_type": "code",
   "execution_count": 9,
   "metadata": {
    "id": "Fiw6SQJfg2Oh"
   },
   "outputs": [
    {
     "name": "stderr",
     "output_type": "stream",
     "text": [
      "100%|██████████| 1001/1001 [00:00<00:00, 23297.03it/s]\n"
     ]
    }
   ],
   "source": [
    "def pad_matricies(adjacency_matricies):\n",
    "\n",
    "  shapes = []\n",
    "  for adj_matrix in adjacency_matricies:\n",
    "    shape = adj_matrix.shape\n",
    "    shapes.append(shape)\n",
    "\n",
    "  padding_value = max(shapes)[0] # pull dimension\n",
    "\n",
    "\n",
    "  padded_matricies = []\n",
    "  for adj_matrix in tqdm(adjacency_matricies, total = len(adjacency_matricies)):\n",
    "    # Determine current shape\n",
    "    current_shape = adj_matrix.shape\n",
    "\n",
    "    # Calculate padding needed\n",
    "    padding       = ((0, max(0, padding_value - current_shape[0])),  # Padding for rows\n",
    "                     (0, max(0, padding_value - current_shape[1])))  # Padding for columns\n",
    "\n",
    "    # Apply padding\n",
    "    padded_matrix = np.pad(adj_matrix, padding, mode='constant', constant_values=0)\n",
    "    padded_matricies.append(padded_matrix)\n",
    "\n",
    "\n",
    "  return np.array(padded_matricies)\n",
    "\n",
    "\n",
    "\n",
    "\n",
    "\n",
    "padded_matricies = pad_matricies(adjacency_matricies)\n"
   ]
  },
  {
   "cell_type": "markdown",
   "metadata": {
    "id": "stBkm0FrQlo9"
   },
   "source": [
    "**Uniquely Identifying Substructures**\n",
    "1. Rings are their own \"words\"\n",
    "2. Aromaticity, atoms in ring, # of atoms are needed to identify\n",
    "3. Chirality is likely important\n",
    "4. Current Nodes in MST Represent candidates for vocabulary\n",
    "5. Double and triple bonds can be found by the index in bonds sub dictionary and then calliung atoms dictionary"
   ]
  },
  {
   "cell_type": "code",
   "execution_count": 44,
   "metadata": {
    "executionInfo": {
     "elapsed": 59009,
     "status": "ok",
     "timestamp": 1708820023674,
     "user": {
      "displayName": "Alex Jimenez",
      "userId": "15345293446110207163"
     },
     "user_tz": 300
    },
    "id": "R9zzwvPAJU-7"
   },
   "outputs": [
    {
     "name": "stdout",
     "output_type": "stream",
     "text": [
      "66\n",
      "327\n",
      "329\n",
      "337\n",
      "341\n",
      "378\n",
      "416\n",
      "497\n",
      "613\n",
      "630\n",
      "707\n",
      "750\n",
      "820\n",
      "855\n",
      "892\n",
      "911\n",
      "914\n"
     ]
    }
   ],
   "source": [
    "def construct_vocabulary(adjacency_matricies, molecule_df, junction_tree):\n",
    "  '''\n",
    "  Construct Vocabulary for the adjacency matrix, molecule_df, and junction tree\n",
    "  ------------------------------------------------------------------\n",
    "  ------------------------------------------------------------------\n",
    "  Parameters:\n",
    "    adjacency_matricies: N x N Matrix representing nodes in graph representation\n",
    "    molecule_df: metadata of molecules including\n",
    "    junction_tree:\n",
    "\n",
    "  Returns:\n",
    "    vocabulary:\n",
    "\n",
    "  '''\n",
    "  \n",
    "  smiles_keys         = list(molecule_df[0].keys())[1:]\n",
    "  node_valencies      = {}\n",
    "  molecule_dictionary = {}\n",
    "  vocabulary          = {}\n",
    "  valency_dict        = {}\n",
    " \n",
    "\n",
    "  # Could clean up all the code by writing a function that takes a category such as \"aromatic_atoms\"\n",
    "  for index in range(len(junction_tree)):\n",
    "    vocabulary[index]    = {}\n",
    "    nodes                = junction_tree[index].nodes\n",
    "    \n",
    "    molecule_data        = molecule_df[index]\n",
    "    converted            = None\n",
    "    molecule             = Chem.MolFromSmiles(zinc_data['smiles'][index])\n",
    "    bonds                = molecule.GetBonds()\n",
    "    valency              = molecule_data['valence']\n",
    "    valency_dict[index]  = []\n",
    "    iterated_nodes       = []\n",
    "#     valency_dict[index]  = [valency[sub_node] for node in nodes for sub_node in (node if isinstance(node, tuple) else [node])]\n",
    "    \n",
    "    # Initialize Structure Counts\n",
    "    aromatic_count       = 1\n",
    "    ring_count           = 1\n",
    "    bond_count           = 1\n",
    "    dbl_bond_count       = 1\n",
    "    trp_bond_count       = 1\n",
    "    tertiary_count       = 1\n",
    "    quaternary_count     = 1\n",
    "    molecule_index       = 1\n",
    "     \n",
    "    for node in nodes:\n",
    "      ring_structures    = []\n",
    "      for descriptor in smiles_keys:\n",
    "        # Need to fix this to find elements beter 05 Feb 2024\n",
    "        # Tuple can either be a pair of bonds (single, double, or triple) or ring\n",
    "        valencies           = [valency[sub_node] for sub_node in \n",
    "                              (node if isinstance(node, tuple) else [node])]\n",
    "        \n",
    "        # Book Keeping Data To Query Later\n",
    "        if node not in iterated_nodes:\n",
    "            iterated_nodes.append(node)\n",
    "            valency_dict[index].append(valencies)\n",
    "\n",
    "        if isinstance(node, tuple):\n",
    "          conversions    = []\n",
    "          node_len       = len(node)\n",
    "          atoms          = molecule_data[descriptor]\n",
    "#           print(node)\n",
    "          # Normal Rings and Aromatic Rings are separated\n",
    "          # Need to get the non aromatic rings now, unique identifying them\n",
    "          if node_len > 2 and descriptor == 'Aromatic_Atoms':\n",
    "              \n",
    "              shared_atoms = (set(atoms).intersection(set(node)))\n",
    "              if shared_atoms == set(node):\n",
    "                vocabulary[index][descriptor + ' ' + str(aromatic_count)] = []\n",
    "                for ind_atom in node:\n",
    "                    converted  = molecule_data['atoms'][ind_atom]\n",
    "                    conversions.append((ind_atom, converted))\n",
    "\n",
    "                vocabulary[index][descriptor + ' ' + str(aromatic_count)].append(conversions)\n",
    "                aromatic_count  += 1\n",
    "                \n",
    "          elif node_len > 2 and descriptor != 'Aromatic_Atoms':\n",
    "            atoms      = molecule_data['atoms']\n",
    "            bool_check = atoms not in ring_structures\n",
    "            # If the intersection doesn't include the whole node, ring is not aromatic\n",
    "            if len(set(molecule_data['Aromatic_Atoms']).intersection(node)) < len(node) and bool_check:\n",
    "                vocabulary[index]['ring ' + str(ring_count)] = []\n",
    "                for atom in node:\n",
    "                    conversion = atoms[atom]\n",
    "                    conversions.append((atom, conversion))\n",
    "                    \n",
    "                ring_structures.append(atoms)\n",
    "                \n",
    "                vocabulary[index]['ring ' + str(ring_count)].append(conversions)\n",
    "                ring_count   += 1\n",
    "                \n",
    "\n",
    "          # Adding double bonds to vocabulary\n",
    "          if descriptor == 'Double_Bonds':\n",
    "            atoms       = molecule_data[descriptor]\n",
    "            \n",
    "            # Atoms can contain a list of tuples representing double bonds\n",
    "            for atom_sets in atoms:\n",
    "                if atom_sets == node:\n",
    "                    vocabulary[index][descriptor + ' ' + str(dbl_bond_count)] = []\n",
    "                    for ind_atom in atom_sets:\n",
    "                        converted = molecule_data['atoms'][ind_atom]\n",
    "                        conversions.append((ind_atom, converted))\n",
    "\n",
    "                    vocabulary[index][descriptor + ' ' + str(dbl_bond_count)].append(conversions)\n",
    "                    dbl_bond_count += 1\n",
    "\n",
    "          # Adding triple bonds to vocabulary\n",
    "          if descriptor == 'Triple_Bonds':\n",
    "\n",
    "              atoms     = molecule_data[descriptor]\n",
    "              for atom_sets in atoms:\n",
    "                if atom_sets == node:\n",
    "                  vocabulary[index][descriptor + ' ' + str(trp_bond_count)] = []\n",
    "                  for ind_atom in atom_sets:\n",
    "                    converted = molecule_data['atoms'][ind_atom]\n",
    "                    conversions.append((ind_atom, converted))\n",
    "\n",
    "                  vocabulary[index][descriptor + ' ' + str(trp_bond_count)].append(conversions)\n",
    "                  trp_bond_count += 1\n",
    "\n",
    "          # Adding Single bonded atoms if they are a node in Junction Tree\n",
    "          if descriptor == 'bonds':\n",
    "        \n",
    "            atoms     = molecule_data[descriptor]\n",
    "            if node in molecule_data['Double_Bonds'] or node in molecule_data['Triple_Bonds']:\n",
    "                continue\n",
    "                \n",
    "            for atom_sets in atoms:\n",
    "              if len(atom_sets) == 2:\n",
    "                reverse_atoms = (atom_sets[1], atom_sets[0])\n",
    "              else:\n",
    "                reverse_atoms = None\n",
    "\n",
    "              if atom_sets == node or reverse_atoms == node:\n",
    "                \n",
    "                vocabulary[index][descriptor + ' ' + str(bond_count)] = []\n",
    "                for ind_atom in atom_sets:\n",
    "                  converted = molecule_data['atoms'][ind_atom]\n",
    "                  conversions.append((ind_atom, converted))\n",
    "            \n",
    "                vocabulary[index][descriptor + ' ' + str(bond_count)].append(conversions)\n",
    "                bond_count += 1\n",
    "\n",
    "        else:\n",
    "            converted    = molecule_data['atoms'][node]\n",
    "            sub_category = molecule_data[descriptor]\n",
    "            if descriptor == 'Chiral_Centers':\n",
    "              # converted    = molecule_data['atoms'][node]\n",
    "              # sub_category = molecule_data[descriptor]\n",
    "              # print(sub_category, converted)\n",
    "\n",
    "              for chiral_molecule in sub_category:\n",
    "                if chiral_molecule[0] == node:\n",
    "                  vocabulary[index][descriptor + ' ' + str(molecule_index)] = []\n",
    "                  # Create a running dictionary\n",
    "\n",
    "                  if converted not in molecule_dictionary:\n",
    "                    molecule_dictionary[converted] = molecule_index\n",
    "                \n",
    "                  if chiral_molecule[1] != '?':\n",
    "                      vocabulary[index][descriptor + ' ' + str(molecule_index)].append((node, str(converted) + f'({chiral_molecule[1]})'))\n",
    "                      molecule_index += 1\n",
    "                  else:\n",
    "                    print(index)\n",
    "                    del vocabulary[index][descriptor + ' ' + str(molecule_index)]\n",
    "                  \n",
    "                \n",
    "\n",
    "            # Left off her trying to figure out adjacency matrix and vocab size mismatch... 20Feb2024\n",
    "\n",
    "            if descriptor == 'Tertiary':\n",
    "              \n",
    "              for tertiary_atom in sub_category:\n",
    "                if tertiary_atom == node:\n",
    "                  vocabulary[index][descriptor + ' ' + str(tertiary_count)] = []\n",
    "                  # Create a running dictionary\n",
    "\n",
    "                  if converted not in molecule_dictionary:\n",
    "                    molecule_dictionary[converted] = molecule_index\n",
    "\n",
    "                  vocabulary[index][descriptor + ' ' + str(tertiary_count)].append((node, str(converted)))\n",
    "                  tertiary_count += 1\n",
    "\n",
    "\n",
    "            if descriptor == 'Quaternary':\n",
    "\n",
    "              for quaternary_atom in sub_category:\n",
    "                if quaternary_atom == node:\n",
    "                  vocabulary[index][descriptor + ' ' + str(tertiary_count)] = []\n",
    "                  # Create a running dictionary\n",
    "\n",
    "                  if converted not in molecule_dictionary:\n",
    "                    molecule_dictionary[converted] = molecule_index\n",
    "\n",
    "                  vocabulary[index][descriptor + ' ' + str(tertiary_count)].append((node, str(converted)))\n",
    "                  tertiary_count += 1\n",
    "\n",
    "\n",
    "              quaternary_count += 1\n",
    "\n",
    "          \n",
    "        \n",
    "  return vocabulary, molecule_dictionary, valency_dict\n",
    "\n",
    "vocabulary, molecule_dictionary, valency_dict = construct_vocabulary(adjacency_matricies, \n",
    "                                                                      molecule_df, \n",
    "                                                                      junction_tree)"
   ]
  },
  {
   "cell_type": "markdown",
   "metadata": {
    "id": "B2uDKjm5xzAc"
   },
   "source": [
    "**Ordering of atoms**\n",
    "1. The string representations keep spatial connection between atoms, except for the ring junction"
   ]
  },
  {
   "cell_type": "code",
   "execution_count": 45,
   "metadata": {},
   "outputs": [],
   "source": [
    "def canonicalize_string(ring_string, properties):\n",
    "    \n",
    "    # Initialize_string\n",
    "    original_string = ''\n",
    "    dbond_type      = re.compile('(\\w+)\\s[none|cis|trans]', flags = re.I)\n",
    "    dbond_type      = dbond_type.findall(ring_string)\n",
    "    chirality       = re.compile('(\\w)\\([R|S|?]\\)')\n",
    "    chirality       = chirality.findall(ring_string)\n",
    "    \n",
    "    # none, cis, or trans tag\n",
    "    if len(dbond_type) > 0:\n",
    "        original_string = copy.copy(ring_string)\n",
    "        ring_string     = dbond_type[0]\n",
    "    elif len(chirality) > 0:\n",
    "        original_string = copy.copy(ring_string)\n",
    "        ring_string     = chirality[0]\n",
    "#         ring_string     = chirality[0]\n",
    "    \n",
    "    # Check if ring_string and properties are of the same length\n",
    "    if len(ring_string) != len(properties):\n",
    "        print(ring_string, properties, original_string)\n",
    "        raise ValueError(\"The length of ring_string and properties must match.\")\n",
    "        \n",
    "    # Generate all rotations of the ring string and the properties\n",
    "    rotations = [(ring_string[n:] + ring_string[:n], properties[n:] + properties[:n]) for n in range(len(ring_string))]\n",
    "\n",
    "    # Add reversed versions of each rotation\n",
    "    rotations += [(r[::-1], p[::-1]) for r, p in rotations]\n",
    "\n",
    "    # Find the lexicographically smallest string and its corresponding properties\n",
    "    canonical_form, canonical_properties = min(rotations, key=lambda x: x[0])\n",
    "    \n",
    "    canonical_properties     = ''.join([str(i) for i in canonical_properties])\n",
    "    suffix                   = original_string.replace(ring_string, '')\n",
    "    canonical_form           = canonical_form + ' ' + canonical_properties + suffix\n",
    "    return canonical_form\n"
   ]
  },
  {
   "cell_type": "code",
   "execution_count": 35,
   "metadata": {
    "executionInfo": {
     "elapsed": 405,
     "status": "ok",
     "timestamp": 1708820031434,
     "user": {
      "displayName": "Alex Jimenez",
      "userId": "15345293446110207163"
     },
     "user_tz": 300
    },
    "id": "F4rnfBgBPrPQ"
   },
   "outputs": [],
   "source": [
    "# def canonicalize_string(ring_string):\n",
    "#     # Generate all rotations of the ring string\n",
    "#     rotations = [ring_string[n:] + ring_string[:n] for n in range(len(ring_string))]\n",
    "\n",
    "#     # Add reversed versions of each rotation\n",
    "#     rotations += [r[::-1] for r in rotations]\n",
    "\n",
    "#     # Find the lexicographically smallest string\n",
    "#     canonical_form = min(rotations)\n",
    "\n",
    "#     return canonical_form"
   ]
  },
  {
   "cell_type": "markdown",
   "metadata": {},
   "source": [
    "**Next Step 03Mar2024**\n",
    "1. Insert valency into vocabulary\n",
    "2. Evaluate how many other properties we should include in node property vector"
   ]
  },
  {
   "cell_type": "markdown",
   "metadata": {},
   "source": [
    "**Using Canonicalize String May be Problomatic**\n",
    "1. I'll have to think about this again 03Mar2024\n",
    "2. Chiral centers and Tertiary/Quaternary atoms we need to make sure they're not double counted\n",
    "3. index 66 shows they are double counted 04Mar2024"
   ]
  },
  {
   "cell_type": "code",
   "execution_count": 121,
   "metadata": {},
   "outputs": [
    {
     "data": {
      "text/plain": [
       "13"
      ]
     },
     "execution_count": 121,
     "metadata": {},
     "output_type": "execute_result"
    }
   ],
   "source": [
    "valency_dict[66]"
   ]
  },
  {
   "cell_type": "code",
   "execution_count": 122,
   "metadata": {},
   "outputs": [
    {
     "data": {
      "text/plain": [
       "14"
      ]
     },
     "execution_count": 122,
     "metadata": {},
     "output_type": "execute_result"
    }
   ],
   "source": [
    "len(vocabulary[66])"
   ]
  },
  {
   "cell_type": "code",
   "execution_count": 47,
   "metadata": {},
   "outputs": [
    {
     "data": {
      "text/plain": [
       "{'bonds 1': [[(0, 'C'), (1, 'N')]],\n",
       " 'bonds 2': [[(9, 'N'), (10, 'C')]],\n",
       " 'bonds 3': [[(2, 'C'), (4, 'C')]],\n",
       " 'bonds 4': [[(1, 'N'), (2, 'C')]],\n",
       " 'Tertiary 1': [(2, 'C')],\n",
       " 'ring 1': [[(12, 'C'),\n",
       "   (13, 'C'),\n",
       "   (14, 'C'),\n",
       "   (21, 'C'),\n",
       "   (22, 'C'),\n",
       "   (11, 'C')]],\n",
       " 'Tertiary 2': [(9, 'N')],\n",
       " 'Aromatic_Atoms 1': [[(5, 'C'), (6, 'N'), (7, 'C'), (23, 'C'), (24, 'S')]],\n",
       " 'Double_Bonds 1': [[(2, 'C'), (3, 'O')]],\n",
       " 'Aromatic_Atoms 2': [[(16, 'C'),\n",
       "   (17, 'C'),\n",
       "   (18, 'C'),\n",
       "   (19, 'C'),\n",
       "   (20, 'C'),\n",
       "   (15, 'C')]],\n",
       " 'bonds 5': [[(4, 'C'), (5, 'C')]],\n",
       " 'bonds 6': [[(8, 'C'), (9, 'N')]],\n",
       " 'bonds 7': [[(9, 'N'), (11, 'C')]],\n",
       " 'bonds 8': [[(14, 'C'), (15, 'C')]],\n",
       " 'bonds 9': [[(7, 'C'), (8, 'C')]]}"
      ]
     },
     "execution_count": 47,
     "metadata": {},
     "output_type": "execute_result"
    }
   ],
   "source": [
    "vocabulary[327]"
   ]
  },
  {
   "cell_type": "code",
   "execution_count": 46,
   "metadata": {},
   "outputs": [
    {
     "data": {
      "image/png": "[encoded data removed]",
      "text/plain": [
       "<rdkit.Chem.rdchem.Mol at 0x7eff78cc29d0>"
      ]
     },
     "execution_count": 46,
     "metadata": {},
     "output_type": "execute_result"
    }
   ],
   "source": [
    "Chem.MolFromSmiles(zinc_data['smiles'][327])"
   ]
  },
  {
   "cell_type": "code",
   "execution_count": 39,
   "metadata": {
    "colab": {
     "base_uri": "https://localhost:8080/",
     "height": 292
    },
    "executionInfo": {
     "elapsed": 72519,
     "status": "error",
     "timestamp": 1708820104955,
     "user": {
      "displayName": "Alex Jimenez",
      "userId": "15345293446110207163"
     },
     "user_tz": 300
    },
    "id": "0i-yg3Nts02g",
    "outputId": "0807d18b-7b1c-4b5f-a891-650f6c5594db"
   },
   "outputs": [
    {
     "name": "stderr",
     "output_type": "stream",
     "text": [
      "  7%|▋         | 66/1001 [00:00<00:00, 1647.88it/s]"
     ]
    },
    {
     "name": "stdout",
     "output_type": "stream",
     "text": [
      "0\n",
      "1\n",
      "2\n",
      "3\n",
      "4\n",
      "5\n",
      "6\n",
      "7\n",
      "8\n",
      "9\n",
      "10\n",
      "11\n",
      "12\n",
      "13\n",
      "14\n",
      "15\n",
      "16\n",
      "17\n",
      "18\n",
      "19\n",
      "20\n",
      "21\n",
      "22\n",
      "23\n",
      "24\n",
      "25\n",
      "26\n",
      "27\n",
      "28\n",
      "29\n",
      "30\n",
      "31\n",
      "32\n",
      "33\n",
      "34\n",
      "35\n",
      "36\n",
      "37\n",
      "38\n",
      "39\n",
      "40\n",
      "41\n",
      "42\n",
      "43\n",
      "44\n",
      "45\n",
      "46\n",
      "47\n",
      "48\n",
      "49\n",
      "50\n",
      "51\n",
      "52\n",
      "53\n",
      "54\n",
      "55\n",
      "56\n",
      "57\n",
      "58\n",
      "59\n",
      "60\n",
      "61\n",
      "62\n",
      "63\n",
      "64\n",
      "65\n",
      "66\n",
      "N [2, 1] \n"
     ]
    },
    {
     "name": "stderr",
     "output_type": "stream",
     "text": [
      "\n"
     ]
    },
    {
     "ename": "ValueError",
     "evalue": "The length of ring_string and properties must match.",
     "output_type": "error",
     "traceback": [
      "\u001b[0;31m---------------------------------------------------------------------------\u001b[0m",
      "\u001b[0;31mValueError\u001b[0m                                Traceback (most recent call last)",
      "Cell \u001b[0;32mIn[39], line 92\u001b[0m\n\u001b[1;32m     88\u001b[0m     token_dictionary[index] \u001b[38;5;241m=\u001b[39m token_representations\n\u001b[1;32m     89\u001b[0m   \u001b[38;5;28;01mreturn\u001b[39;00m token_dictionary, unique_vocab\n\u001b[0;32m---> 92\u001b[0m token_dictionary, unique_vocab \u001b[38;5;241m=\u001b[39m \u001b[43mbuild_unique_vocabulary\u001b[49m\u001b[43m(\u001b[49m\u001b[43mvocabulary\u001b[49m\u001b[43m,\u001b[49m\u001b[43m \u001b[49m\u001b[43mzinc_data\u001b[49m\u001b[43m,\u001b[49m\u001b[43m \u001b[49m\u001b[43mvalency_dict\u001b[49m\u001b[43m)\u001b[49m\n",
      "Cell \u001b[0;32mIn[39], line 74\u001b[0m, in \u001b[0;36mbuild_unique_vocabulary\u001b[0;34m(vocabulary, zinc_data, valency_dict)\u001b[0m\n\u001b[1;32m     72\u001b[0m \u001b[38;5;28;01melse\u001b[39;00m:\n\u001b[1;32m     73\u001b[0m   atoms       \u001b[38;5;241m+\u001b[39m\u001b[38;5;241m=\u001b[39m category_items[\u001b[38;5;241m1\u001b[39m]\n\u001b[0;32m---> 74\u001b[0m   atoms       \u001b[38;5;241m=\u001b[39m \u001b[43mcanonicalize_string\u001b[49m\u001b[43m(\u001b[49m\u001b[43matoms\u001b[49m\u001b[43m,\u001b[49m\u001b[43m \u001b[49m\u001b[43mvalency\u001b[49m\u001b[43m)\u001b[49m\n\u001b[1;32m     75\u001b[0m   atoms      \u001b[38;5;241m+\u001b[39m\u001b[38;5;241m=\u001b[39m \u001b[38;5;124m'\u001b[39m\u001b[38;5;124m TQ\u001b[39m\u001b[38;5;124m'\u001b[39m\n\u001b[1;32m     77\u001b[0m \u001b[38;5;28;01mif\u001b[39;00m atoms \u001b[38;5;129;01mnot\u001b[39;00m \u001b[38;5;129;01min\u001b[39;00m unique_vocab:\n",
      "Cell \u001b[0;32mIn[38], line 22\u001b[0m, in \u001b[0;36mcanonicalize_string\u001b[0;34m(ring_string, properties)\u001b[0m\n\u001b[1;32m     20\u001b[0m \u001b[38;5;28;01mif\u001b[39;00m \u001b[38;5;28mlen\u001b[39m(ring_string) \u001b[38;5;241m!=\u001b[39m \u001b[38;5;28mlen\u001b[39m(properties):\n\u001b[1;32m     21\u001b[0m     \u001b[38;5;28mprint\u001b[39m(ring_string, properties, original_string)\n\u001b[0;32m---> 22\u001b[0m     \u001b[38;5;28;01mraise\u001b[39;00m \u001b[38;5;167;01mValueError\u001b[39;00m(\u001b[38;5;124m\"\u001b[39m\u001b[38;5;124mThe length of ring_string and properties must match.\u001b[39m\u001b[38;5;124m\"\u001b[39m)\n\u001b[1;32m     24\u001b[0m \u001b[38;5;66;03m# Generate all rotations of the ring string and the properties\u001b[39;00m\n\u001b[1;32m     25\u001b[0m rotations \u001b[38;5;241m=\u001b[39m [(ring_string[n:] \u001b[38;5;241m+\u001b[39m ring_string[:n], properties[n:] \u001b[38;5;241m+\u001b[39m properties[:n]) \u001b[38;5;28;01mfor\u001b[39;00m n \u001b[38;5;129;01min\u001b[39;00m \u001b[38;5;28mrange\u001b[39m(\u001b[38;5;28mlen\u001b[39m(ring_string))]\n",
      "\u001b[0;31mValueError\u001b[0m: The length of ring_string and properties must match."
     ]
    }
   ],
   "source": [
    "def build_unique_vocabulary(vocabulary, zinc_data, valency_dict):\n",
    "  '''\n",
    "  Goal of this function is to assign unique \"words\" to every molecular structure previously identified\n",
    "  -------------------------------------------------------------------------\n",
    "  -------------------------------------------------------------------------\n",
    "  \n",
    "  Parameters:\n",
    "    vocabulary:\n",
    "    zinc_data:\n",
    "    valency_dict:\n",
    "\n",
    "  Returns:\n",
    "    token_dictionary: index representations of the original chemical structure\n",
    "    unique_vocab: the dictionary containing the identified unique chemical vocabulary\n",
    "\n",
    "  '''\n",
    "\n",
    "  token_dictionary         = {}\n",
    "  unique_vocab             = {}\n",
    "  vocab_counter            = 0\n",
    "\n",
    "  for index in tqdm(vocabulary, total = len(vocabulary)):\n",
    "    smiles_rep             = Chem.MolFromSmiles(zinc_data['smiles'][index])\n",
    "    token_representations  = []\n",
    "    valencies              = valency_dict[index]\n",
    "#     print(valencies)\n",
    "#     valencies              = ''.join([str(val) for val in valencies])\n",
    "    print(index)\n",
    "    for cat_index, category in enumerate(vocabulary[index]):\n",
    "      aromatic_counter     = 0\n",
    "      atoms                = ''\n",
    "      valency              = ''\n",
    "      category_items       = vocabulary[index][category][0]\n",
    "      bond_index_list      = []\n",
    "      \n",
    "#       print(len(valencies), category)\n",
    "      valency              = valencies[cat_index]\n",
    "      \n",
    "      if isinstance(category_items, list):\n",
    "        for item in category_items:\n",
    "            aromatic_counter += 1\n",
    "\n",
    "            # Atomatic atoms order is accurate for bond connections (first and last element are bonded as well)\n",
    "            # Confirmed this by running a sorting algorithm that returned the original string before sorting\n",
    "            atoms            += item[1]\n",
    "            # Retrieves Connections of all atoms (Needed for Aromatics)\n",
    "            bond_indexes      = [(category_items[i][0], category_items[i][1]) for i, bond in enumerate(category_items)\n",
    "                                if smiles_rep.GetBondBetweenAtoms(bond[0], item[0]) is not None]\n",
    "            \n",
    "        if 'Aromatic_Atoms' in category:\n",
    "          # Regardless of order, we want CCNNCC == CCCCNN\n",
    "          # Since we are only considered with the ring backbone, these structures are equivalent\n",
    "          atoms              = canonicalize_string(atoms, valency) + '=' # add equal to indicate aromatic\n",
    "        \n",
    "        if 'ring' in category:\n",
    "          atoms              = canonicalize_string(atoms, valency)\n",
    "            \n",
    "        # Unique way to identify double bonds\n",
    "        if 'Double_Bonds' in category:\n",
    "          \n",
    "          isomerism = ' ' + molecule_df[index]['Bond_Isomerism'][0]\n",
    "          atoms     = canonicalize_string(atoms, valency)\n",
    "          atoms    += isomerism\n",
    "          atoms    += '=='\n",
    "\n",
    "        # Unique_way to identify triple bonds\n",
    "        elif 'Triple_Bonds' in category:\n",
    "    \n",
    "          atoms     = canonicalize_string(atoms, valency)\n",
    "          atoms    += '==='\n",
    "            \n",
    "      else:\n",
    "        atoms       += category_items[1]\n",
    "        atoms       = canonicalize_string(atoms, valency)\n",
    "        atoms      += ' TQ'\n",
    " \n",
    "      if atoms not in unique_vocab:\n",
    "          unique_vocab[atoms] = vocab_counter\n",
    "          vocabulary_token    = unique_vocab[atoms]\n",
    "          vocab_counter      += 1\n",
    "      else:\n",
    "          vocabulary_token    = unique_vocab[atoms]\n",
    "\n",
    "      token_representations.append(vocabulary_token)\n",
    "\n",
    "    # counter +=1\n",
    "    \n",
    "    token_dictionary[index] = token_representations\n",
    "  return token_dictionary, unique_vocab\n",
    "\n",
    "\n",
    "token_dictionary, unique_vocab = build_unique_vocabulary(vocabulary, zinc_data, valency_dict)\n"
   ]
  },
  {
   "cell_type": "code",
   "execution_count": 18,
   "metadata": {},
   "outputs": [],
   "source": [
    "flipped_vocab = {value: key for key, value in unique_vocab.items()}"
   ]
  },
  {
   "cell_type": "code",
   "execution_count": 19,
   "metadata": {
    "colab": {
     "base_uri": "https://localhost:8080/",
     "height": 334
    },
    "executionInfo": {
     "elapsed": 10,
     "status": "ok",
     "timestamp": 1708659789511,
     "user": {
      "displayName": "Alex Jimenez",
      "userId": "15345293446110207163"
     },
     "user_tz": 300
    },
    "id": "he2gTMIrtwFg",
    "outputId": "4bb0c9c6-fa70-49c8-e67f-7bfb84ff083e"
   },
   "outputs": [
    {
     "name": "stdout",
     "output_type": "stream",
     "text": [
      "Vocabulary Token:   ==OCenon\n"
     ]
    },
    {
     "data": {
      "image/jpeg": "[encoded data removed]",
      "image/png": "[encoded data removed]",
      "text/plain": [
       "<PIL.PngImagePlugin.PngImageFile image mode=RGB size=300x300>"
      ]
     },
     "execution_count": 19,
     "metadata": {},
     "output_type": "execute_result"
    }
   ],
   "source": [
    "from rdkit.Chem import Draw\n",
    "\n",
    "def validate_preprocess(unique_vocab, vocab_index = 259, choose_index = None):\n",
    "\n",
    "  '''\n",
    "  This function draws the molecular structure of any molecule containing\n",
    "  the desired unique_vocab instance for visual validation of joining rings\n",
    "  for the preprocessing of nodes in the junction tree algorithm earlier\n",
    "\n",
    "  Paramters:\n",
    "    unique_vocab:\n",
    "    vocab_index:\n",
    "\n",
    "  '''\n",
    "  flipped_vocab = {value: key for key, value in unique_vocab.items()}\n",
    "\n",
    "  if not choose_index:\n",
    "    found_indexes = []\n",
    "    for index in token_dictionary:\n",
    "      try:\n",
    "        index_found = token_dictionary[index].index(vocab_index)\n",
    "        found_indexes.append(index)\n",
    "      except ValueError:\n",
    "        pass\n",
    "  else:\n",
    "    found_indexes = [choose_index]\n",
    "\n",
    "  # Convert the SMILES string to an RDKit molecule object\n",
    "  molecules = [Chem.MolFromSmiles(zinc_data['smiles'][index]) for index in found_indexes]\n",
    "\n",
    "  # [print(list(atom)) for atom in Chem.GetSymmSSSR(molecule)]\n",
    "  # Draw the molecules\n",
    "  print('Vocabulary Token: ', flipped_vocab[vocab_index])\n",
    "\n",
    "\n",
    "  return Draw.MolToImage(molecules[0])\n",
    "\n",
    "\n",
    "validate_preprocess(unique_vocab, vocab_index = 2, choose_index = 0)"
   ]
  },
  {
   "cell_type": "code",
   "execution_count": 20,
   "metadata": {
    "colab": {
     "base_uri": "https://localhost:8080/",
     "height": 1000
    },
    "executionInfo": {
     "elapsed": 704,
     "status": "ok",
     "timestamp": 1708658594257,
     "user": {
      "displayName": "Alex Jimenez",
      "userId": "15345293446110207163"
     },
     "user_tz": 300
    },
    "id": "obbIWLDSBbDc",
    "outputId": "a15cd9af-02bc-4d90-902c-c7e238053965"
   },
   "outputs": [
    {
     "data": {
      "image/png": "[encoded data removed]",
      "text/plain": [
       "<Figure size 1200x1200 with 1 Axes>"
      ]
     },
     "metadata": {},
     "output_type": "display_data"
    },
    {
     "data": {
      "image/png": "[encoded data removed]",
      "text/plain": [
       "<Figure size 1200x1200 with 1 Axes>"
      ]
     },
     "metadata": {},
     "output_type": "display_data"
    }
   ],
   "source": [
    "def plot_junction_tree(junction_tree, random_var = False, n_trees = 10, start_index = 0):\n",
    "  # Draw the graph\n",
    "  def plot(tree):\n",
    "      plt.figure(figsize=(12, 12))  # Set the size of the plot\n",
    "      pos = nx.spring_layout(tree)  # Positions for all nodes\n",
    "\n",
    "      # Nodes\n",
    "      nx.draw_networkx_nodes(tree, pos, node_size=50, node_color=\"lightblue\")\n",
    "\n",
    "      # Edges\n",
    "      nx.draw_networkx_edges(tree, pos, width=2)\n",
    "\n",
    "      # Labels\n",
    "      nx.draw_networkx_labels(tree, pos, font_size=6, font_family=\"sans-serif\")\n",
    "\n",
    "      # Show the plot\n",
    "      plt.axis(\"off\")  # Turn off the axis\n",
    "      plt.show()\n",
    "\n",
    "  if not random_var:\n",
    "     for tree in junction_tree[start_index:start_index + n_trees]:\n",
    "      plot(tree)\n",
    "\n",
    "  elif isinstance(junction_tree, list) and random_var:\n",
    "    trees   = [random.randint(0, len(junction_tree)) for _ in range(n_trees)]\n",
    "    for tree in junction_tree[:n_trees]:\n",
    "      plot(tree)\n",
    "\n",
    "plot_junction_tree(junction_tree, random_var = False, start_index = 0, n_trees = 2)\n"
   ]
  },
  {
   "cell_type": "code",
   "execution_count": 21,
   "metadata": {
    "colab": {
     "base_uri": "https://localhost:8080/"
    },
    "executionInfo": {
     "elapsed": 527,
     "status": "ok",
     "timestamp": 1708596661228,
     "user": {
      "displayName": "Alex Jimenez",
      "userId": "15345293446110207163"
     },
     "user_tz": 300
    },
    "id": "1mr1v-34VqGk",
    "outputId": "0f25a35c-6e8f-4f98-dc19-2d9d39e660a0"
   },
   "outputs": [
    {
     "name": "stderr",
     "output_type": "stream",
     "text": [
      "100%|██████████| 1001/1001 [00:00<00:00, 5196.05it/s]\n"
     ]
    }
   ],
   "source": [
    "def substitute_vocabulary(adjacency_matricies, token_dictionary):\n",
    "  ''' \n",
    "  Junction tree and adjacency matricies can be used with the token dictionary\n",
    "  to map back the vocabulary into the adjacency_matricies\n",
    "  \n",
    "  Parameters:\n",
    "      adjacency_matricies:\n",
    "      token_dictionary:\n",
    "      \n",
    "  Returns:\n",
    "      \n",
    "      \n",
    "  '''\n",
    "  for index, atoms in tqdm(token_dictionary.items(), total = len(list(token_dictionary.values()))):\n",
    "      list_index = 0\n",
    "    \n",
    "      matrix     = adjacency_matricies[index]\n",
    "      for i in range(len(matrix)):\n",
    "        for j in range(len(matrix)):\n",
    "#             print(adjacency_matricies[index][i][j])\n",
    "            if matrix[i][j] != 0:\n",
    "#                 print(atoms, list_index, matrix.shape)\n",
    "                atom_conversion                  = atoms[j]\n",
    "                adjacency_matricies[index][i][j] = atom_conversion\n",
    "                list_index += 1\n",
    "        \n",
    "\n",
    "  return np.array(adjacency_matricies)\n",
    "\n",
    "\n",
    "adjacency_substituted = substitute_vocabulary(padded_matricies, token_dictionary)\n"
   ]
  },
  {
   "cell_type": "markdown",
   "metadata": {},
   "source": [
    "**Next Step. Look into vocabulary aspect of this code 27Feb2024**\n",
    "1. Ideally we would match the papers token number\n",
    "2. The subsituting is working properly"
   ]
  },
  {
   "cell_type": "code",
   "execution_count": null,
   "metadata": {},
   "outputs": [],
   "source": []
  }
 ],
 "metadata": {
  "colab": {
   "authorship_tag": "ABX9TyM7xUIvpK/h1RbWfdw6ORq7",
   "provenance": []
  },
  "kernelspec": {
   "display_name": "conda_pytorch_p310",
   "language": "python",
   "name": "conda_pytorch_p310"
  },
  "language_info": {
   "codemirror_mode": {
    "name": "ipython",
    "version": 3
   },
   "file_extension": ".py",
   "mimetype": "text/x-python",
   "name": "python",
   "nbconvert_exporter": "python",
   "pygments_lexer": "ipython3",
   "version": "3.10.13"
  }
 },
 "nbformat": 4,
 "nbformat_minor": 1
}
